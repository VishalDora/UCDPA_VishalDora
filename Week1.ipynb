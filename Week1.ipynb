{
 "cells": [
  {
   "cell_type": "code",
   "execution_count": 8,
   "id": "19cccbb2",
   "metadata": {},
   "outputs": [],
   "source": [
    "a=10\n",
    "b=2"
   ]
  },
  {
   "cell_type": "code",
   "execution_count": 9,
   "id": "8ce73dfc",
   "metadata": {},
   "outputs": [],
   "source": [
    "sum1 = a+b\n",
    "diff = a-b\n",
    "mult = a*b\n",
    "factor = a // b\n",
    "div1 = a / b\n",
    "power1 = b ** a"
   ]
  },
  {
   "cell_type": "code",
   "execution_count": 14,
   "id": "d500bfcf",
   "metadata": {},
   "outputs": [
    {
     "name": "stdout",
     "output_type": "stream",
     "text": [
      "Sum is 12\n"
     ]
    }
   ],
   "source": []
  },
  {
   "cell_type": "code",
   "execution_count": 19,
   "id": "1f93a99c",
   "metadata": {},
   "outputs": [
    {
     "name": "stdout",
     "output_type": "stream",
     "text": [
      "Sum of 2 and 10 is 12\n",
      "diff of 10 to 2 is 8\n",
      "Mult of 2 to 10 is 20\n",
      "div of 10 to 2 is 5.0\n",
      "Power of 2 to 10 is 1024\n",
      "factor of 10 to 2 is 5\n"
     ]
    }
   ],
   "source": [
    "print(\"Sum of \"+str(b) +\" and \" + str(a) +\" is \" + str(sum1))\n",
    "print(\"diff of \"+str(a) +\" to \" + str(b) +\" is \" + str(diff))\n",
    "print(\"Mult of \"+str(b) +\" to \" + str(a) +\" is \" + str(mult))\n",
    "print(\"div of \"+str(a) +\" to \" + str(b) +\" is \" +str(div1))\n",
    "print(\"Power of \"+str(b) +\" to \" + str(a) +\" is \" + str(power1))\n",
    "print(\"factor of \"+str(a) +\" to \" + str(b) +\" is \" + str(factor))"
   ]
  },
  {
   "cell_type": "code",
   "execution_count": 20,
   "id": "f7606b00",
   "metadata": {},
   "outputs": [
    {
     "data": {
      "text/plain": [
       "'HELLO'"
      ]
     },
     "execution_count": 20,
     "metadata": {},
     "output_type": "execute_result"
    }
   ],
   "source": [
    "str.upper(\"hello\")"
   ]
  },
  {
   "cell_type": "code",
   "execution_count": null,
   "id": "112a788b",
   "metadata": {},
   "outputs": [],
   "source": []
  }
 ],
 "metadata": {
  "kernelspec": {
   "display_name": "Python 3 (ipykernel)",
   "language": "python",
   "name": "python3"
  },
  "language_info": {
   "codemirror_mode": {
    "name": "ipython",
    "version": 3
   },
   "file_extension": ".py",
   "mimetype": "text/x-python",
   "name": "python",
   "nbconvert_exporter": "python",
   "pygments_lexer": "ipython3",
   "version": "3.9.7"
  }
 },
 "nbformat": 4,
 "nbformat_minor": 5
}
